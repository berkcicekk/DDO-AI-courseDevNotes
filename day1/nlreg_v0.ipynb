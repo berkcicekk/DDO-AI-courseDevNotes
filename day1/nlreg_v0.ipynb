{
 "cells": [
  {
   "cell_type": "code",
   "id": "initial_id",
   "metadata": {
    "collapsed": true,
    "jupyter": {
     "is_executing": true
    }
   },
   "source": [
    "print(\"Lets go\")"
   ],
   "outputs": [],
   "execution_count": null
  },
  {
   "metadata": {},
   "cell_type": "markdown",
   "source": [
    "Peki problemimiz düz bir çizgi şeklinde ifade edilemiyorsa ne yapmalıyız?"
   ],
   "id": "8ee3577214b2cf60"
  },
  {
   "metadata": {},
   "cell_type": "code",
   "outputs": [],
   "execution_count": null,
   "source": "",
   "id": "7a8f87d5492e0e77"
  },
  {
   "metadata": {
    "ExecuteTime": {
     "end_time": "2024-10-15T13:17:16.213051Z",
     "start_time": "2024-10-15T13:17:15.382402Z"
    }
   },
   "cell_type": "code",
   "source": [
    "import pandas\n",
    "from matplotlib import pyplot as plotter"
   ],
   "id": "677cd86b8290f9b5",
   "outputs": [],
   "execution_count": 2
  },
  {
   "metadata": {
    "ExecuteTime": {
     "end_time": "2024-10-15T13:17:16.377720Z",
     "start_time": "2024-10-15T13:17:16.366554Z"
    }
   },
   "cell_type": "code",
   "source": [
    "sale_dataset = pandas.read_csv('data/experience_sale_dataset')\n",
    "\n",
    "sale_dataset.head()"
   ],
   "id": "d319e8e8adb24b1b",
   "outputs": [
    {
     "data": {
      "text/plain": [
       "   YearsExperience  HouseSales\n",
       "0              3.2          27\n",
       "1              8.2          30\n",
       "2              5.7          31\n",
       "3              7.5          36\n",
       "4              1.5          16"
      ],
      "text/html": [
       "<div>\n",
       "<style scoped>\n",
       "    .dataframe tbody tr th:only-of-type {\n",
       "        vertical-align: middle;\n",
       "    }\n",
       "\n",
       "    .dataframe tbody tr th {\n",
       "        vertical-align: top;\n",
       "    }\n",
       "\n",
       "    .dataframe thead th {\n",
       "        text-align: right;\n",
       "    }\n",
       "</style>\n",
       "<table border=\"1\" class=\"dataframe\">\n",
       "  <thead>\n",
       "    <tr style=\"text-align: right;\">\n",
       "      <th></th>\n",
       "      <th>YearsExperience</th>\n",
       "      <th>HouseSales</th>\n",
       "    </tr>\n",
       "  </thead>\n",
       "  <tbody>\n",
       "    <tr>\n",
       "      <th>0</th>\n",
       "      <td>3.2</td>\n",
       "      <td>27</td>\n",
       "    </tr>\n",
       "    <tr>\n",
       "      <th>1</th>\n",
       "      <td>8.2</td>\n",
       "      <td>30</td>\n",
       "    </tr>\n",
       "    <tr>\n",
       "      <th>2</th>\n",
       "      <td>5.7</td>\n",
       "      <td>31</td>\n",
       "    </tr>\n",
       "    <tr>\n",
       "      <th>3</th>\n",
       "      <td>7.5</td>\n",
       "      <td>36</td>\n",
       "    </tr>\n",
       "    <tr>\n",
       "      <th>4</th>\n",
       "      <td>1.5</td>\n",
       "      <td>16</td>\n",
       "    </tr>\n",
       "  </tbody>\n",
       "</table>\n",
       "</div>"
      ]
     },
     "execution_count": 3,
     "metadata": {},
     "output_type": "execute_result"
    }
   ],
   "execution_count": 3
  },
  {
   "metadata": {
    "ExecuteTime": {
     "end_time": "2024-10-15T13:17:16.472321Z",
     "start_time": "2024-10-15T13:17:16.457553Z"
    }
   },
   "cell_type": "code",
   "source": [
    "print(sale_dataset.shape)"
   ],
   "id": "1ec70a5834557e50",
   "outputs": [
    {
     "name": "stdout",
     "output_type": "stream",
     "text": [
      "(15, 2)\n"
     ]
    }
   ],
   "execution_count": 4
  },
  {
   "metadata": {
    "ExecuteTime": {
     "end_time": "2024-10-15T13:17:16.646781Z",
     "start_time": "2024-10-15T13:17:16.510451Z"
    }
   },
   "cell_type": "code",
   "source": [
    "sale_dataset.describe()"
   ],
   "id": "8ada9551961ee4ec",
   "outputs": [
    {
     "data": {
      "text/plain": [
       "       YearsExperience  HouseSales\n",
       "count        15.000000   15.000000\n",
       "mean          3.790000   22.666667\n",
       "std           2.927346    9.802818\n",
       "min           0.100000    6.000000\n",
       "25%           1.250000   15.500000\n",
       "50%           3.200000   22.000000\n",
       "75%           6.225000   31.000000\n",
       "max           8.500000   36.000000"
      ],
      "text/html": [
       "<div>\n",
       "<style scoped>\n",
       "    .dataframe tbody tr th:only-of-type {\n",
       "        vertical-align: middle;\n",
       "    }\n",
       "\n",
       "    .dataframe tbody tr th {\n",
       "        vertical-align: top;\n",
       "    }\n",
       "\n",
       "    .dataframe thead th {\n",
       "        text-align: right;\n",
       "    }\n",
       "</style>\n",
       "<table border=\"1\" class=\"dataframe\">\n",
       "  <thead>\n",
       "    <tr style=\"text-align: right;\">\n",
       "      <th></th>\n",
       "      <th>YearsExperience</th>\n",
       "      <th>HouseSales</th>\n",
       "    </tr>\n",
       "  </thead>\n",
       "  <tbody>\n",
       "    <tr>\n",
       "      <th>count</th>\n",
       "      <td>15.000000</td>\n",
       "      <td>15.000000</td>\n",
       "    </tr>\n",
       "    <tr>\n",
       "      <th>mean</th>\n",
       "      <td>3.790000</td>\n",
       "      <td>22.666667</td>\n",
       "    </tr>\n",
       "    <tr>\n",
       "      <th>std</th>\n",
       "      <td>2.927346</td>\n",
       "      <td>9.802818</td>\n",
       "    </tr>\n",
       "    <tr>\n",
       "      <th>min</th>\n",
       "      <td>0.100000</td>\n",
       "      <td>6.000000</td>\n",
       "    </tr>\n",
       "    <tr>\n",
       "      <th>25%</th>\n",
       "      <td>1.250000</td>\n",
       "      <td>15.500000</td>\n",
       "    </tr>\n",
       "    <tr>\n",
       "      <th>50%</th>\n",
       "      <td>3.200000</td>\n",
       "      <td>22.000000</td>\n",
       "    </tr>\n",
       "    <tr>\n",
       "      <th>75%</th>\n",
       "      <td>6.225000</td>\n",
       "      <td>31.000000</td>\n",
       "    </tr>\n",
       "    <tr>\n",
       "      <th>max</th>\n",
       "      <td>8.500000</td>\n",
       "      <td>36.000000</td>\n",
       "    </tr>\n",
       "  </tbody>\n",
       "</table>\n",
       "</div>"
      ]
     },
     "execution_count": 5,
     "metadata": {},
     "output_type": "execute_result"
    }
   ],
   "execution_count": 5
  },
  {
   "metadata": {
    "ExecuteTime": {
     "end_time": "2024-10-15T13:17:16.955613Z",
     "start_time": "2024-10-15T13:17:16.718084Z"
    }
   },
   "cell_type": "code",
   "source": [
    "# İki özelliğin de dağılımına bakalım\n",
    "\n",
    "plotter.hist(sale_dataset[\"YearsExperience\"], bins=15)"
   ],
   "id": "293b7f2fee5baef5",
   "outputs": [
    {
     "data": {
      "text/plain": [
       "(array([2., 2., 2., 0., 0., 2., 1., 1., 0., 0., 1., 1., 0., 1., 2.]),\n",
       " array([0.1 , 0.66, 1.22, 1.78, 2.34, 2.9 , 3.46, 4.02, 4.58, 5.14, 5.7 ,\n",
       "        6.26, 6.82, 7.38, 7.94, 8.5 ]),\n",
       " <BarContainer object of 15 artists>)"
      ]
     },
     "execution_count": 6,
     "metadata": {},
     "output_type": "execute_result"
    },
    {
     "data": {
      "text/plain": [
       "<Figure size 640x480 with 1 Axes>"
      ],
      "image/png": "[encoded data removed]"
     },
     "metadata": {},
     "output_type": "display_data"
    }
   ],
   "execution_count": 6
  },
  {
   "metadata": {
    "ExecuteTime": {
     "end_time": "2024-10-15T13:17:17.127743Z",
     "start_time": "2024-10-15T13:17:17.004555Z"
    }
   },
   "cell_type": "code",
   "source": [
    "# Görselleştirme\n",
    "\n",
    "plotter.scatter(x = sale_dataset[\"YearsExperience\"], y = sale_dataset[\"HouseSales\"])"
   ],
   "id": "43e01e14b373e234",
   "outputs": [
    {
     "data": {
      "text/plain": [
       "<matplotlib.collections.PathCollection at 0x77f6d5645f90>"
      ]
     },
     "execution_count": 7,
     "metadata": {},
     "output_type": "execute_result"
    },
    {
     "data": {
      "text/plain": [
       "<Figure size 640x480 with 1 Axes>"
      ],
      "image/png": "[encoded data removed]"
     },
     "metadata": {},
     "output_type": "display_data"
    }
   ],
   "execution_count": 7
  },
  {
   "metadata": {
    "ExecuteTime": {
     "end_time": "2024-10-15T13:17:17.832290Z",
     "start_time": "2024-10-15T13:17:17.236679Z"
    }
   },
   "cell_type": "code",
   "source": [
    "# Önce Bir Lineer Regresyon Deneyelim ^_^\n",
    "\n",
    "from sklearn.linear_model import LinearRegression\n",
    "\n",
    "reg_model = LinearRegression().fit(sale_dataset[[\"YearsExperience\"]],\n",
    "                                   sale_dataset[[\"HouseSales\"]])\n",
    "\n",
    "reg_model.score(sale_dataset[[\"YearsExperience\"]], sale_dataset[[\"HouseSales\"]])"
   ],
   "id": "2a38af471388543f",
   "outputs": [
    {
     "data": {
      "text/plain": [
       "0.8137110174932514"
      ]
     },
     "execution_count": 8,
     "metadata": {},
     "output_type": "execute_result"
    }
   ],
   "execution_count": 8
  },
  {
   "metadata": {
    "ExecuteTime": {
     "end_time": "2024-10-15T13:17:17.876909Z",
     "start_time": "2024-10-15T13:17:17.872290Z"
    }
   },
   "cell_type": "code",
   "source": [
    "reg_model.coef_"
   ],
   "id": "a2be18dcf1c8db89",
   "outputs": [
    {
     "data": {
      "text/plain": [
       "array([[3.02073001]])"
      ]
     },
     "execution_count": 9,
     "metadata": {},
     "output_type": "execute_result"
    }
   ],
   "execution_count": 9
  },
  {
   "metadata": {
    "ExecuteTime": {
     "end_time": "2024-10-15T13:17:17.986584Z",
     "start_time": "2024-10-15T13:17:17.982008Z"
    }
   },
   "cell_type": "code",
   "source": [
    "reg_model.intercept_"
   ],
   "id": "589d56f6b304e5fb",
   "outputs": [
    {
     "data": {
      "text/plain": [
       "array([11.21809993])"
      ]
     },
     "execution_count": 10,
     "metadata": {},
     "output_type": "execute_result"
    }
   ],
   "execution_count": 10
  },
  {
   "metadata": {
    "ExecuteTime": {
     "end_time": "2024-10-15T13:17:18.081687Z",
     "start_time": "2024-10-15T13:17:18.025105Z"
    }
   },
   "cell_type": "code",
   "source": [
    "predictions = reg_model.predict(sale_dataset[[\"YearsExperience\"]])"
   ],
   "id": "3b0afdf2def641d4",
   "outputs": [],
   "execution_count": 11
  },
  {
   "metadata": {
    "ExecuteTime": {
     "end_time": "2024-10-15T13:17:18.280615Z",
     "start_time": "2024-10-15T13:17:18.151884Z"
    }
   },
   "cell_type": "code",
   "source": [
    "residuler = []\n",
    "for x in range(len(predictions)):\n",
    "    residuler.append(sale_dataset[\"HouseSales\"][x] - predictions[x])"
   ],
   "id": "41a34da3702df678",
   "outputs": [],
   "execution_count": 12
  },
  {
   "metadata": {
    "ExecuteTime": {
     "end_time": "2024-10-15T13:17:18.447122Z",
     "start_time": "2024-10-15T13:17:18.285073Z"
    }
   },
   "cell_type": "code",
   "source": [
    "from sklearn.metrics import r2_score\n",
    "\n",
    "r2_score_linear = r2_score(sale_dataset[\"HouseSales\"], predictions)"
   ],
   "id": "a70f22f2b41109c7",
   "outputs": [],
   "execution_count": 13
  },
  {
   "metadata": {
    "ExecuteTime": {
     "end_time": "2024-10-15T13:17:18.572432Z",
     "start_time": "2024-10-15T13:17:18.461574Z"
    }
   },
   "cell_type": "code",
   "source": [
    "r2_score_linear"
   ],
   "id": "5ac64aa6cb6e93f2",
   "outputs": [
    {
     "data": {
      "text/plain": [
       "0.8137110174932514"
      ]
     },
     "execution_count": 14,
     "metadata": {},
     "output_type": "execute_result"
    }
   ],
   "execution_count": 14
  },
  {
   "metadata": {
    "ExecuteTime": {
     "end_time": "2024-10-15T13:17:18.822343Z",
     "start_time": "2024-10-15T13:17:18.593485Z"
    }
   },
   "cell_type": "code",
   "source": [
    "plotter.scatter(x = sale_dataset[\"YearsExperience\"], \n",
    "                y = sale_dataset[\"HouseSales\"])\n",
    "\n",
    "plotter.plot(sale_dataset[\"YearsExperience\"], \n",
    "             predictions, \n",
    "             color='purple')"
   ],
   "id": "fec7b8483333aee0",
   "outputs": [
    {
     "data": {
      "text/plain": [
       "[<matplotlib.lines.Line2D at 0x77f6aa1f5e70>]"
      ]
     },
     "execution_count": 15,
     "metadata": {},
     "output_type": "execute_result"
    },
    {
     "data": {
      "text/plain": [
       "<Figure size 640x480 with 1 Axes>"
      ],
      "image/png": "[encoded data removed]"
     },
     "metadata": {},
     "output_type": "display_data"
    }
   ],
   "execution_count": 15
  },
  {
   "metadata": {
    "ExecuteTime": {
     "end_time": "2024-10-15T13:17:18.837155Z",
     "start_time": "2024-10-15T13:17:18.831250Z"
    }
   },
   "cell_type": "code",
   "source": [
    "residuler"
   ],
   "id": "e61b73d53173b392",
   "outputs": [
    {
     "data": {
      "text/plain": [
       "[array([6.11556404]),\n",
       " array([-5.98808601]),\n",
       " array([2.56373901]),\n",
       " array([2.126425]),\n",
       " array([0.25080506]),\n",
       " array([0.45909706]),\n",
       " array([4.3919725]),\n",
       " array([-5.89430501]),\n",
       " array([-1.88443596]),\n",
       " array([-0.99894697]),\n",
       " array([-2.52017293]),\n",
       " array([-2.23882994]),\n",
       " array([-6.42639193]),\n",
       " array([6.49068803]),\n",
       " array([3.55287806])]"
      ]
     },
     "execution_count": 16,
     "metadata": {},
     "output_type": "execute_result"
    }
   ],
   "execution_count": 16
  },
  {
   "metadata": {
    "ExecuteTime": {
     "end_time": "2024-10-15T13:17:19.120113Z",
     "start_time": "2024-10-15T13:17:18.885670Z"
    }
   },
   "cell_type": "code",
   "source": [
    "# Residüleri Görselleştirelim\n",
    "\n",
    "plotter.scatter(x = sale_dataset[\"HouseSales\"], \n",
    "                y = residuler)"
   ],
   "id": "9cd2d30a5b69d0ce",
   "outputs": [
    {
     "data": {
      "text/plain": [
       "<matplotlib.collections.PathCollection at 0x77f6aa2d8be0>"
      ]
     },
     "execution_count": 17,
     "metadata": {},
     "output_type": "execute_result"
    },
    {
     "data": {
      "text/plain": [
       "<Figure size 640x480 with 1 Axes>"
      ],
      "image/png": "[encoded data removed]"
     },
     "metadata": {},
     "output_type": "display_data"
    }
   ],
   "execution_count": 17
  },
  {
   "metadata": {},
   "cell_type": "markdown",
   "source": [
    "Daha İyi Olabilir mi?"
   ],
   "id": "1c7880c3daac7896"
  },
  {
   "metadata": {
    "ExecuteTime": {
     "end_time": "2024-10-15T13:17:19.139226Z",
     "start_time": "2024-10-15T13:17:19.132157Z"
    }
   },
   "cell_type": "code",
   "source": [
    "from sklearn.preprocessing import PolynomialFeatures\n",
    "\n",
    "poly_model = PolynomialFeatures(2)\n",
    "transformed_data = poly_model.fit_transform(sale_dataset[[\"YearsExperience\"]],\n",
    "                                            sale_dataset[[\"HouseSales\"]])"
   ],
   "id": "e7570264a0617484",
   "outputs": [],
   "execution_count": 18
  },
  {
   "metadata": {
    "ExecuteTime": {
     "end_time": "2024-10-15T13:17:19.322731Z",
     "start_time": "2024-10-15T13:17:19.173361Z"
    }
   },
   "cell_type": "code",
   "source": [
    "transformed_data"
   ],
   "id": "e7c6f4634058538b",
   "outputs": [
    {
     "data": {
      "text/plain": [
       "array([[1.00000e+00, 3.20000e+00, 1.02400e+01],\n",
       "       [1.00000e+00, 8.20000e+00, 6.72400e+01],\n",
       "       [1.00000e+00, 5.70000e+00, 3.24900e+01],\n",
       "       [1.00000e+00, 7.50000e+00, 5.62500e+01],\n",
       "       [1.00000e+00, 1.50000e+00, 2.25000e+00],\n",
       "       [1.00000e+00, 1.10000e+00, 1.21000e+00],\n",
       "       [1.00000e+00, 6.75000e+00, 4.55625e+01],\n",
       "       [1.00000e+00, 8.50000e+00, 7.22500e+01],\n",
       "       [1.00000e+00, 3.20000e+00, 1.02400e+01],\n",
       "       [1.00000e+00, 3.90000e+00, 1.52100e+01],\n",
       "       [1.00000e+00, 1.00000e-01, 1.00000e-02],\n",
       "       [1.00000e+00, 1.00000e+00, 1.00000e+00],\n",
       "       [1.00000e+00, 4.00000e-01, 1.60000e-01],\n",
       "       [1.00000e+00, 4.40000e+00, 1.93600e+01],\n",
       "       [1.00000e+00, 1.40000e+00, 1.96000e+00]])"
      ]
     },
     "execution_count": 19,
     "metadata": {},
     "output_type": "execute_result"
    }
   ],
   "execution_count": 19
  },
  {
   "metadata": {
    "ExecuteTime": {
     "end_time": "2024-10-15T13:17:19.465453Z",
     "start_time": "2024-10-15T13:17:19.374595Z"
    }
   },
   "cell_type": "code",
   "source": [
    "from sklearn.linear_model import LinearRegression\n",
    "\n",
    "quadratic_model = LinearRegression().fit(transformed_data, sale_dataset[[\"HouseSales\"]])"
   ],
   "id": "20a93dbdd8528f24",
   "outputs": [],
   "execution_count": 20
  },
  {
   "metadata": {
    "ExecuteTime": {
     "end_time": "2024-10-15T13:17:19.638935Z",
     "start_time": "2024-10-15T13:17:19.516300Z"
    }
   },
   "cell_type": "code",
   "source": [
    "quadratic_model.intercept_"
   ],
   "id": "f75e5149241ff9eb",
   "outputs": [
    {
     "data": {
      "text/plain": [
       "array([6.45196075])"
      ]
     },
     "execution_count": 21,
     "metadata": {},
     "output_type": "execute_result"
    }
   ],
   "execution_count": 21
  },
  {
   "metadata": {
    "ExecuteTime": {
     "end_time": "2024-10-15T13:17:19.831814Z",
     "start_time": "2024-10-15T13:17:19.688972Z"
    }
   },
   "cell_type": "code",
   "source": [
    "quadratic_model.coef_"
   ],
   "id": "da8bf87e6289021b",
   "outputs": [
    {
     "data": {
      "text/plain": [
       "array([[ 0.        ,  7.06439652, -0.4721974 ]])"
      ]
     },
     "execution_count": 22,
     "metadata": {},
     "output_type": "execute_result"
    }
   ],
   "execution_count": 22
  },
  {
   "metadata": {
    "ExecuteTime": {
     "end_time": "2024-10-15T13:17:19.940500Z",
     "start_time": "2024-10-15T13:17:19.890354Z"
    }
   },
   "cell_type": "code",
   "source": [
    "# Öngörümüzü Yapalım\n",
    "\n",
    "predictions_quadratic = quadratic_model.predict(transformed_data)\n",
    "\n",
    "predictions_quadratic"
   ],
   "id": "109509eabe081fae",
   "outputs": [
    {
     "data": {
      "text/plain": [
       "array([[24.22272827],\n",
       "       [32.62945923],\n",
       "       [31.37732748],\n",
       "       [32.87383106],\n",
       "       [15.98611139],\n",
       "       [13.65143807],\n",
       "       [32.62214335],\n",
       "       [32.38306922],\n",
       "       [24.22272827],\n",
       "       [26.82098477],\n",
       "       [ 7.15367843],\n",
       "       [13.04415987],\n",
       "       [ 9.20216778],\n",
       "       [28.39356383],\n",
       "       [15.41660898]])"
      ]
     },
     "execution_count": 23,
     "metadata": {},
     "output_type": "execute_result"
    }
   ],
   "execution_count": 23
  },
  {
   "metadata": {
    "ExecuteTime": {
     "end_time": "2024-10-15T13:17:20.310964Z",
     "start_time": "2024-10-15T13:17:20.040676Z"
    }
   },
   "cell_type": "code",
   "source": [
    "plotter.scatter(x = sale_dataset[\"YearsExperience\"], \n",
    "                y = predictions_quadratic)"
   ],
   "id": "8b695c263a53fe25",
   "outputs": [
    {
     "data": {
      "text/plain": [
       "<matplotlib.collections.PathCollection at 0x77f6aa17bb80>"
      ]
     },
     "execution_count": 24,
     "metadata": {},
     "output_type": "execute_result"
    },
    {
     "data": {
      "text/plain": [
       "<Figure size 640x480 with 1 Axes>"
      ],
      "image/png": "[encoded data removed]"
     },
     "metadata": {},
     "output_type": "display_data"
    }
   ],
   "execution_count": 24
  },
  {
   "metadata": {
    "ExecuteTime": {
     "end_time": "2024-10-15T13:17:20.364613Z",
     "start_time": "2024-10-15T13:17:20.358855Z"
    }
   },
   "cell_type": "code",
   "source": [
    "r2_score_quadratic = r2_score(sale_dataset[\"HouseSales\"], \n",
    "                              predictions_quadratic)\n",
    "\n",
    "r2_score_quadratic"
   ],
   "id": "e61c6411aec5b15",
   "outputs": [
    {
     "data": {
      "text/plain": [
       "0.9073907971182075"
      ]
     },
     "execution_count": 25,
     "metadata": {},
     "output_type": "execute_result"
    }
   ],
   "execution_count": 25
  },
  {
   "metadata": {
    "jupyter": {
     "is_executing": true
    }
   },
   "cell_type": "code",
   "source": [
    "temp = []\n",
    "for x in range(len(sale_dataset[\"YearsExperience\"])):\n",
    "    temp.append([sale_dataset[\"YearsExperience\"][x], predictions_quadratic[x]])\n",
    "temp.sort(key=lambda x: x[0])\n",
    "\n",
    "x = []\n",
    "y_pred = []\n",
    "\n",
    "for a in temp:\n",
    "    x.append(a[0])\n",
    "    y_pred.append(a[1])"
   ],
   "id": "bf55dce2e05a04ed",
   "outputs": [],
   "execution_count": null
  },
  {
   "metadata": {
    "ExecuteTime": {
     "end_time": "2024-10-15T13:17:20.777367Z",
     "start_time": "2024-10-15T13:17:20.550381Z"
    }
   },
   "cell_type": "code",
   "source": [
    "plotter.scatter(x = sale_dataset[\"YearsExperience\"], \n",
    "                y = sale_dataset[\"HouseSales\"])\n",
    "\n",
    "plotter.plot(x, \n",
    "             y_pred, \n",
    "             color='purple')"
   ],
   "id": "f60bed5407e9a56a",
   "outputs": [
    {
     "data": {
      "text/plain": [
       "[<matplotlib.lines.Line2D at 0x77f6aa1c4610>]"
      ]
     },
     "execution_count": 27,
     "metadata": {},
     "output_type": "execute_result"
    },
    {
     "data": {
      "text/plain": [
       "<Figure size 640x480 with 1 Axes>"
      ],
      "image/png": "[encoded data removed]"
     },
     "metadata": {},
     "output_type": "display_data"
    }
   ],
   "execution_count": 27
  },
  {
   "metadata": {
    "ExecuteTime": {
     "end_time": "2024-10-15T13:18:17.094127Z",
     "start_time": "2024-10-15T13:18:17.088716Z"
    }
   },
   "cell_type": "code",
   "source": [
    "residuler_quadratic = []\n",
    "for x in range(len(predictions_quadratic)):\n",
    "    residuler_quadratic.append(sale_dataset[\"HouseSales\"][x] - predictions_quadratic[x])"
   ],
   "id": "f61c4bee7bb245",
   "outputs": [],
   "execution_count": 30
  },
  {
   "metadata": {
    "ExecuteTime": {
     "end_time": "2024-10-15T13:18:18.250879Z",
     "start_time": "2024-10-15T13:18:18.070376Z"
    }
   },
   "cell_type": "code",
   "source": [
    "# Quadratic Residüleri Görelim\n",
    "\n",
    "plotter.scatter(x = sale_dataset[\"HouseSales\"], \n",
    "                y = residuler_quadratic)"
   ],
   "id": "116a5195857829a9",
   "outputs": [
    {
     "data": {
      "text/plain": [
       "<matplotlib.collections.PathCollection at 0x77f6a7e623e0>"
      ]
     },
     "execution_count": 31,
     "metadata": {},
     "output_type": "execute_result"
    },
    {
     "data": {
      "text/plain": [
       "<Figure size 640x480 with 1 Axes>"
      ],
      "image/png": "[encoded data removed]"
     },
     "metadata": {},
     "output_type": "display_data"
    }
   ],
   "execution_count": 31
  },
  {
   "metadata": {
    "ExecuteTime": {
     "end_time": "2024-10-15T13:17:20.978413Z",
     "start_time": "2024-10-15T13:17:20.817409Z"
    }
   },
   "cell_type": "code",
   "source": [
    "plotter.scatter(x = sale_dataset[\"YearsExperience\"], \n",
    "                y = predictions_quadratic,\n",
    "                edgecolors='red')\n",
    "plotter.scatter(x=sale_dataset[\"YearsExperience\"],\n",
    "                y=sale_dataset[\"HouseSales\"])"
   ],
   "id": "960b9dfb398fe9b7",
   "outputs": [
    {
     "data": {
      "text/plain": [
       "<matplotlib.collections.PathCollection at 0x77f6a7f7ed70>"
      ]
     },
     "execution_count": 28,
     "metadata": {},
     "output_type": "execute_result"
    },
    {
     "data": {
      "text/plain": [
       "<Figure size 640x480 with 1 Axes>"
      ],
      "image/png": "[encoded data removed]"
     },
     "metadata": {},
     "output_type": "display_data"
    }
   ],
   "execution_count": 28
  },
  {
   "metadata": {
    "ExecuteTime": {
     "end_time": "2024-10-15T13:17:21.187985Z",
     "start_time": "2024-10-15T13:17:21.030984Z"
    }
   },
   "cell_type": "code",
   "source": [
    "plotter.scatter(x=sale_dataset[\"YearsExperience\"],\n",
    "                y=predictions, \n",
    "                edgecolors='green')\n",
    "plotter.scatter(x=sale_dataset[\"YearsExperience\"],\n",
    "                y=sale_dataset[\"HouseSales\"])"
   ],
   "id": "10645d1d7b974756",
   "outputs": [
    {
     "data": {
      "text/plain": [
       "<matplotlib.collections.PathCollection at 0x77f6a7ffc8e0>"
      ]
     },
     "execution_count": 29,
     "metadata": {},
     "output_type": "execute_result"
    },
    {
     "data": {
      "text/plain": [
       "<Figure size 640x480 with 1 Axes>"
      ],
      "image/png": "[encoded data removed]"
     },
     "metadata": {},
     "output_type": "display_data"
    }
   ],
   "execution_count": 29
  },
  {
   "metadata": {},
   "cell_type": "markdown",
   "source": [
    "\n",
    "\n",
    "* https://scikit-learn.org/"
   ],
   "id": "ee7b61bec770c6a7"
  }
 ],
 "metadata": {
  "kernelspec": {
   "display_name": "Python 3",
   "language": "python",
   "name": "python3"
  },
  "language_info": {
   "codemirror_mode": {
    "name": "ipython",
    "version": 2
   },
   "file_extension": ".py",
   "mimetype": "text/x-python",
   "name": "python",
   "nbconvert_exporter": "python",
   "pygments_lexer": "ipython2",
   "version": "2.7.6"
  }
 },
 "nbformat": 4,
 "nbformat_minor": 5
}
