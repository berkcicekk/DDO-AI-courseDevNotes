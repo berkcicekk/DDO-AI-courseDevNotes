{
 "cells": [
  {
   "cell_type": "code",
   "id": "initial_id",
   "metadata": {
    "collapsed": true,
    "ExecuteTime": {
     "end_time": "2025-02-18T12:42:13.406150Z",
     "start_time": "2025-02-18T12:42:13.394373Z"
    }
   },
   "source": [
    "print(\"Lets go\")"
   ],
   "outputs": [
    {
     "name": "stdout",
     "output_type": "stream",
     "text": [
      "Lets go\n"
     ]
    }
   ],
   "execution_count": 1
  },
  {
   "metadata": {},
   "cell_type": "markdown",
   "source": [
    "Öncelikle Kullanacağımız Kütüphaneleri Import ederek başlıyoruz\n",
    "\n",
    "-> Scikit Learn: ML algoritmalarını sağlayan kütüphane\n",
    "    \n",
    "-> Matplotlib: Görselleştirme kütüphanesi"
   ],
   "id": "c786b41d4e96465f"
  },
  {
   "metadata": {
    "ExecuteTime": {
     "end_time": "2025-02-18T12:42:21.402542Z",
     "start_time": "2025-02-18T12:42:19.461478Z"
    }
   },
   "cell_type": "code",
   "source": [
    "import pandas\n",
    "\n",
    "from matplotlib import pyplot as plotter\n",
    "from sklearn.linear_model import LinearRegression"
   ],
   "id": "6b5f61f318eaa8a5",
   "outputs": [],
   "execution_count": 2
  },
  {
   "metadata": {
    "ExecuteTime": {
     "end_time": "2025-02-18T12:45:04.436469Z",
     "start_time": "2025-02-18T12:45:04.402500Z"
    }
   },
   "cell_type": "code",
   "source": [
    "# Veri setimizi yükleyelim\n",
    "\n",
    "salary_dataset = pandas.read_csv('data/experience_salary_dataset') \n",
    "\n",
    "salary_dataset.head()"
   ],
   "id": "d41421f59ab213e3",
   "outputs": [
    {
     "data": {
      "text/plain": "   YearsExperience  Salary\n0              1.1   39343\n1              1.3   46205\n2              1.5   37731\n3              2.0   43525\n4              2.2   39891",
      "text/html": "<div>\n<style scoped>\n    .dataframe tbody tr th:only-of-type {\n        vertical-align: middle;\n    }\n\n    .dataframe tbody tr th {\n        vertical-align: top;\n    }\n\n    .dataframe thead th {\n        text-align: right;\n    }\n</style>\n<table border=\"1\" class=\"dataframe\">\n  <thead>\n    <tr style=\"text-align: right;\">\n      <th></th>\n      <th>YearsExperience</th>\n      <th>Salary</th>\n    </tr>\n  </thead>\n  <tbody>\n    <tr>\n      <th>0</th>\n      <td>1.1</td>\n      <td>39343</td>\n    </tr>\n    <tr>\n      <th>1</th>\n      <td>1.3</td>\n      <td>46205</td>\n    </tr>\n    <tr>\n      <th>2</th>\n      <td>1.5</td>\n      <td>37731</td>\n    </tr>\n    <tr>\n      <th>3</th>\n      <td>2.0</td>\n      <td>43525</td>\n    </tr>\n    <tr>\n      <th>4</th>\n      <td>2.2</td>\n      <td>39891</td>\n    </tr>\n  </tbody>\n</table>\n</div>"
     },
     "execution_count": 3,
     "metadata": {},
     "output_type": "execute_result"
    }
   ],
   "execution_count": 3
  },
  {
   "cell_type": "code",
   "outputs": [
    {
     "data": {
      "text/plain": "    YearsExperience  Salary\n20              6.8   91738\n21              7.1   98273\n22              7.9  101302\n23              8.2  113812\n24              8.7  109431\n25              9.0  105582\n26              9.5  116969\n27              9.6  112635\n28             10.3  122391\n29             10.5  121872",
      "text/html": "<div>\n<style scoped>\n    .dataframe tbody tr th:only-of-type {\n        vertical-align: middle;\n    }\n\n    .dataframe tbody tr th {\n        vertical-align: top;\n    }\n\n    .dataframe thead th {\n        text-align: right;\n    }\n</style>\n<table border=\"1\" class=\"dataframe\">\n  <thead>\n    <tr style=\"text-align: right;\">\n      <th></th>\n      <th>YearsExperience</th>\n      <th>Salary</th>\n    </tr>\n  </thead>\n  <tbody>\n    <tr>\n      <th>20</th>\n      <td>6.8</td>\n      <td>91738</td>\n    </tr>\n    <tr>\n      <th>21</th>\n      <td>7.1</td>\n      <td>98273</td>\n    </tr>\n    <tr>\n      <th>22</th>\n      <td>7.9</td>\n      <td>101302</td>\n    </tr>\n    <tr>\n      <th>23</th>\n      <td>8.2</td>\n      <td>113812</td>\n    </tr>\n    <tr>\n      <th>24</th>\n      <td>8.7</td>\n      <td>109431</td>\n    </tr>\n    <tr>\n      <th>25</th>\n      <td>9.0</td>\n      <td>105582</td>\n    </tr>\n    <tr>\n      <th>26</th>\n      <td>9.5</td>\n      <td>116969</td>\n    </tr>\n    <tr>\n      <th>27</th>\n      <td>9.6</td>\n      <td>112635</td>\n    </tr>\n    <tr>\n      <th>28</th>\n      <td>10.3</td>\n      <td>122391</td>\n    </tr>\n    <tr>\n      <th>29</th>\n      <td>10.5</td>\n      <td>121872</td>\n    </tr>\n  </tbody>\n</table>\n</div>"
     },
     "execution_count": 5,
     "metadata": {},
     "output_type": "execute_result"
    }
   ],
   "source": [
    "salary_dataset.tail(10)"
   ],
   "metadata": {
    "collapsed": false,
    "ExecuteTime": {
     "end_time": "2025-02-18T12:46:02.641278Z",
     "start_time": "2025-02-18T12:46:02.633491Z"
    }
   },
   "id": "6782e829c1b7cb34",
   "execution_count": 5
  },
  {
   "cell_type": "code",
   "outputs": [
    {
     "name": "stdout",
     "output_type": "stream",
     "text": [
      "<class 'pandas.core.frame.DataFrame'>\n"
     ]
    }
   ],
   "source": [
    "print(type(salary_dataset))"
   ],
   "metadata": {
    "collapsed": false,
    "ExecuteTime": {
     "end_time": "2025-02-18T12:46:23.032907Z",
     "start_time": "2025-02-18T12:46:23.029042Z"
    }
   },
   "id": "2039a5bdbcdfe1a0",
   "execution_count": 6
  },
  {
   "metadata": {
    "ExecuteTime": {
     "end_time": "2025-02-18T12:47:23.086416Z",
     "start_time": "2025-02-18T12:47:23.081817Z"
    }
   },
   "cell_type": "code",
   "source": [
    "# Veri boyutumuzu check edelim\n",
    "\n",
    "print(salary_dataset.shape)"
   ],
   "id": "9cf73adf960c5f90",
   "outputs": [
    {
     "name": "stdout",
     "output_type": "stream",
     "text": [
      "(30, 2)\n"
     ]
    }
   ],
   "execution_count": 7
  },
  {
   "metadata": {
    "ExecuteTime": {
     "end_time": "2025-02-18T12:47:23.110916Z",
     "start_time": "2025-02-18T12:47:23.087473Z"
    }
   },
   "cell_type": "code",
   "source": [
    "# Veri Karakteristiğimize Bakalım\n",
    "\n",
    "salary_dataset.describe()"
   ],
   "id": "117a6075430e5eb6",
   "outputs": [
    {
     "data": {
      "text/plain": "       YearsExperience         Salary\ncount        30.000000      30.000000\nmean          5.313333   76003.000000\nstd           2.837888   27414.429785\nmin           1.100000   37731.000000\n25%           3.200000   56720.750000\n50%           4.700000   65237.000000\n75%           7.700000  100544.750000\nmax          10.500000  122391.000000",
      "text/html": "<div>\n<style scoped>\n    .dataframe tbody tr th:only-of-type {\n        vertical-align: middle;\n    }\n\n    .dataframe tbody tr th {\n        vertical-align: top;\n    }\n\n    .dataframe thead th {\n        text-align: right;\n    }\n</style>\n<table border=\"1\" class=\"dataframe\">\n  <thead>\n    <tr style=\"text-align: right;\">\n      <th></th>\n      <th>YearsExperience</th>\n      <th>Salary</th>\n    </tr>\n  </thead>\n  <tbody>\n    <tr>\n      <th>count</th>\n      <td>30.000000</td>\n      <td>30.000000</td>\n    </tr>\n    <tr>\n      <th>mean</th>\n      <td>5.313333</td>\n      <td>76003.000000</td>\n    </tr>\n    <tr>\n      <th>std</th>\n      <td>2.837888</td>\n      <td>27414.429785</td>\n    </tr>\n    <tr>\n      <th>min</th>\n      <td>1.100000</td>\n      <td>37731.000000</td>\n    </tr>\n    <tr>\n      <th>25%</th>\n      <td>3.200000</td>\n      <td>56720.750000</td>\n    </tr>\n    <tr>\n      <th>50%</th>\n      <td>4.700000</td>\n      <td>65237.000000</td>\n    </tr>\n    <tr>\n      <th>75%</th>\n      <td>7.700000</td>\n      <td>100544.750000</td>\n    </tr>\n    <tr>\n      <th>max</th>\n      <td>10.500000</td>\n      <td>122391.000000</td>\n    </tr>\n  </tbody>\n</table>\n</div>"
     },
     "execution_count": 8,
     "metadata": {},
     "output_type": "execute_result"
    }
   ],
   "execution_count": 8
  },
  {
   "cell_type": "code",
   "outputs": [
    {
     "data": {
      "text/plain": "    YearsExperience  Salary\n0               1.1   39343\n1               1.3   46205\n2               1.5   37731\n3               2.0   43525\n4               2.2   39891\n5               2.9   56642\n6               3.0   60150\n7               3.2   54445\n8               3.2   64445\n9               3.7   57189\n10              3.9   63218\n11              4.0   55794\n12              4.0   56957\n13              4.1   57081\n14              4.5   61111\n15              4.9   67938\n16              5.1   66029\n17              5.3   83088\n18              5.9   81363\n19              6.0   93940\n20              6.8   91738\n21              7.1   98273\n22              7.9  101302\n23              8.2  113812\n24              8.7  109431\n25              9.0  105582\n26              9.5  116969\n27              9.6  112635\n28             10.3  122391\n29             10.5  121872",
      "text/html": "<div>\n<style scoped>\n    .dataframe tbody tr th:only-of-type {\n        vertical-align: middle;\n    }\n\n    .dataframe tbody tr th {\n        vertical-align: top;\n    }\n\n    .dataframe thead th {\n        text-align: right;\n    }\n</style>\n<table border=\"1\" class=\"dataframe\">\n  <thead>\n    <tr style=\"text-align: right;\">\n      <th></th>\n      <th>YearsExperience</th>\n      <th>Salary</th>\n    </tr>\n  </thead>\n  <tbody>\n    <tr>\n      <th>0</th>\n      <td>1.1</td>\n      <td>39343</td>\n    </tr>\n    <tr>\n      <th>1</th>\n      <td>1.3</td>\n      <td>46205</td>\n    </tr>\n    <tr>\n      <th>2</th>\n      <td>1.5</td>\n      <td>37731</td>\n    </tr>\n    <tr>\n      <th>3</th>\n      <td>2.0</td>\n      <td>43525</td>\n    </tr>\n    <tr>\n      <th>4</th>\n      <td>2.2</td>\n      <td>39891</td>\n    </tr>\n    <tr>\n      <th>5</th>\n      <td>2.9</td>\n      <td>56642</td>\n    </tr>\n    <tr>\n      <th>6</th>\n      <td>3.0</td>\n      <td>60150</td>\n    </tr>\n    <tr>\n      <th>7</th>\n      <td>3.2</td>\n      <td>54445</td>\n    </tr>\n    <tr>\n      <th>8</th>\n      <td>3.2</td>\n      <td>64445</td>\n    </tr>\n    <tr>\n      <th>9</th>\n      <td>3.7</td>\n      <td>57189</td>\n    </tr>\n    <tr>\n      <th>10</th>\n      <td>3.9</td>\n      <td>63218</td>\n    </tr>\n    <tr>\n      <th>11</th>\n      <td>4.0</td>\n      <td>55794</td>\n    </tr>\n    <tr>\n      <th>12</th>\n      <td>4.0</td>\n      <td>56957</td>\n    </tr>\n    <tr>\n      <th>13</th>\n      <td>4.1</td>\n      <td>57081</td>\n    </tr>\n    <tr>\n      <th>14</th>\n      <td>4.5</td>\n      <td>61111</td>\n    </tr>\n    <tr>\n      <th>15</th>\n      <td>4.9</td>\n      <td>67938</td>\n    </tr>\n    <tr>\n      <th>16</th>\n      <td>5.1</td>\n      <td>66029</td>\n    </tr>\n    <tr>\n      <th>17</th>\n      <td>5.3</td>\n      <td>83088</td>\n    </tr>\n    <tr>\n      <th>18</th>\n      <td>5.9</td>\n      <td>81363</td>\n    </tr>\n    <tr>\n      <th>19</th>\n      <td>6.0</td>\n      <td>93940</td>\n    </tr>\n    <tr>\n      <th>20</th>\n      <td>6.8</td>\n      <td>91738</td>\n    </tr>\n    <tr>\n      <th>21</th>\n      <td>7.1</td>\n      <td>98273</td>\n    </tr>\n    <tr>\n      <th>22</th>\n      <td>7.9</td>\n      <td>101302</td>\n    </tr>\n    <tr>\n      <th>23</th>\n      <td>8.2</td>\n      <td>113812</td>\n    </tr>\n    <tr>\n      <th>24</th>\n      <td>8.7</td>\n      <td>109431</td>\n    </tr>\n    <tr>\n      <th>25</th>\n      <td>9.0</td>\n      <td>105582</td>\n    </tr>\n    <tr>\n      <th>26</th>\n      <td>9.5</td>\n      <td>116969</td>\n    </tr>\n    <tr>\n      <th>27</th>\n      <td>9.6</td>\n      <td>112635</td>\n    </tr>\n    <tr>\n      <th>28</th>\n      <td>10.3</td>\n      <td>122391</td>\n    </tr>\n    <tr>\n      <th>29</th>\n      <td>10.5</td>\n      <td>121872</td>\n    </tr>\n  </tbody>\n</table>\n</div>"
     },
     "execution_count": 10,
     "metadata": {},
     "output_type": "execute_result"
    }
   ],
   "source": [
    "salary_dataset"
   ],
   "metadata": {
    "collapsed": false,
    "ExecuteTime": {
     "end_time": "2025-02-18T12:51:53.632561Z",
     "start_time": "2025-02-18T12:51:53.623079Z"
    }
   },
   "id": "71467c1c6b187787",
   "execution_count": 10
  },
  {
   "cell_type": "code",
   "outputs": [
    {
     "data": {
      "text/plain": "0      39343\n1      46205\n2      37731\n3      43525\n4      39891\n5      56642\n6      60150\n7      54445\n8      64445\n9      57189\n10     63218\n11     55794\n12     56957\n13     57081\n14     61111\n15     67938\n16     66029\n17     83088\n18     81363\n19     93940\n20     91738\n21     98273\n22    101302\n23    113812\n24    109431\n25    105582\n26    116969\n27    112635\n28    122391\n29    121872\nName: Salary, dtype: int64"
     },
     "execution_count": 11,
     "metadata": {},
     "output_type": "execute_result"
    }
   ],
   "source": [
    "salary_dataset['Salary']"
   ],
   "metadata": {
    "collapsed": false,
    "ExecuteTime": {
     "end_time": "2025-02-18T12:52:42.326722Z",
     "start_time": "2025-02-18T12:52:42.320259Z"
    }
   },
   "id": "1a1be2ee56c33984",
   "execution_count": 11
  },
  {
   "metadata": {
    "ExecuteTime": {
     "end_time": "2025-02-18T12:51:37.854512Z",
     "start_time": "2025-02-18T12:51:37.633043Z"
    }
   },
   "cell_type": "code",
   "source": [
    "# Veri Dağılımımıza Göz Atalım\n",
    "# -> Histogram\n",
    "\n",
    "plotter.hist(salary_dataset['YearsExperience'], bins=30)"
   ],
   "id": "eb8c34b7461c5050",
   "outputs": [
    {
     "data": {
      "text/plain": "(array([2., 1., 1., 1., 0., 1., 3., 0., 2., 3., 1., 0., 2., 1., 0., 2., 0.,\n        0., 1., 1., 0., 1., 1., 0., 1., 1., 1., 1., 0., 2.]),\n array([ 1.1       ,  1.41333333,  1.72666667,  2.04      ,  2.35333333,\n         2.66666667,  2.98      ,  3.29333333,  3.60666667,  3.92      ,\n         4.23333333,  4.54666667,  4.86      ,  5.17333333,  5.48666667,\n         5.8       ,  6.11333333,  6.42666667,  6.74      ,  7.05333333,\n         7.36666667,  7.68      ,  7.99333333,  8.30666667,  8.62      ,\n         8.93333333,  9.24666667,  9.56      ,  9.87333333, 10.18666667,\n        10.5       ]),\n <BarContainer object of 30 artists>)"
     },
     "execution_count": 9,
     "metadata": {},
     "output_type": "execute_result"
    },
    {
     "data": {
      "text/plain": "<Figure size 640x480 with 1 Axes>",
      "image/png": "[encoded data removed]"
     },
     "metadata": {},
     "output_type": "display_data"
    }
   ],
   "execution_count": 9
  },
  {
   "cell_type": "code",
   "outputs": [
    {
     "data": {
      "text/plain": "(array([3., 0., 1., 1., 0., 1., 5., 1., 1., 2., 2., 0., 0., 0., 0., 1., 1.,\n        0., 0., 2., 0., 1., 1., 0., 1., 1., 2., 0., 1., 2.]),\n array([ 37731.,  40553.,  43375.,  46197.,  49019.,  51841.,  54663.,\n         57485.,  60307.,  63129.,  65951.,  68773.,  71595.,  74417.,\n         77239.,  80061.,  82883.,  85705.,  88527.,  91349.,  94171.,\n         96993.,  99815., 102637., 105459., 108281., 111103., 113925.,\n        116747., 119569., 122391.]),\n <BarContainer object of 30 artists>)"
     },
     "execution_count": 12,
     "metadata": {},
     "output_type": "execute_result"
    },
    {
     "data": {
      "text/plain": "<Figure size 640x480 with 1 Axes>",
      "image/png": "[encoded data removed]"
     },
     "metadata": {},
     "output_type": "display_data"
    }
   ],
   "source": [
    "\n",
    "plotter.hist(salary_dataset['Salary'], bins=30)"
   ],
   "metadata": {
    "collapsed": false,
    "ExecuteTime": {
     "end_time": "2025-02-18T12:56:26.427095Z",
     "start_time": "2025-02-18T12:56:26.258391Z"
    }
   },
   "id": "cb6d3863cead1392",
   "execution_count": 12
  },
  {
   "metadata": {
    "ExecuteTime": {
     "end_time": "2025-02-18T12:58:01.830561Z",
     "start_time": "2025-02-18T12:58:01.666253Z"
    }
   },
   "cell_type": "code",
   "source": [
    "# Verimizi Görselleştirelim\n",
    "# -> Scatter Plot\n",
    "\n",
    "plotter.scatter(x = salary_dataset['Salary'], \n",
    "                y = salary_dataset['YearsExperience'])"
   ],
   "id": "6f1f259d93ac7597",
   "outputs": [
    {
     "data": {
      "text/plain": "<matplotlib.collections.PathCollection at 0x287dd996150>"
     },
     "execution_count": 13,
     "metadata": {},
     "output_type": "execute_result"
    },
    {
     "data": {
      "text/plain": "<Figure size 640x480 with 1 Axes>",
      "image/png": "[encoded data removed]"
     },
     "metadata": {},
     "output_type": "display_data"
    }
   ],
   "execution_count": 13
  },
  {
   "cell_type": "code",
   "outputs": [],
   "source": [],
   "metadata": {
    "collapsed": false
   },
   "id": "2f78d692c625d50"
  },
  {
   "metadata": {
    "ExecuteTime": {
     "end_time": "2025-02-18T13:03:27.590730Z",
     "start_time": "2025-02-18T13:03:27.576505Z"
    }
   },
   "cell_type": "code",
   "source": [
    "# Regresyon Adımları\n",
    "# -> Modeli Oluştur\n",
    "# -> Veriyi Öğren (Fit)\n",
    "# -> Öngörü Yap (Predict)\n",
    "# -> Sonuçları metrik olarak elde et\n",
    "\n",
    "reg_model = LinearRegression().fit(salary_dataset[['YearsExperience']],\n",
    "                                   salary_dataset[['Salary']])"
   ],
   "id": "1c399cef9d7364ae",
   "outputs": [],
   "execution_count": 14
  },
  {
   "metadata": {
    "ExecuteTime": {
     "end_time": "2025-02-18T13:05:36.158985Z",
     "start_time": "2025-02-18T13:05:36.139483Z"
    }
   },
   "cell_type": "code",
   "source": [
    "# Bakalım ne kadar başarılı öğrendik\n",
    "\n",
    "reg_model.score(salary_dataset[['YearsExperience']], \n",
    "                salary_dataset[['Salary']])"
   ],
   "id": "84d7b774667160f9",
   "outputs": [
    {
     "data": {
      "text/plain": "0.9569566641435086"
     },
     "execution_count": 15,
     "metadata": {},
     "output_type": "execute_result"
    }
   ],
   "execution_count": 15
  },
  {
   "metadata": {
    "ExecuteTime": {
     "end_time": "2025-02-18T13:06:18.265601Z",
     "start_time": "2025-02-18T13:06:18.261291Z"
    }
   },
   "cell_type": "code",
   "source": [
    "# Öğrenilmiş Değerleri Görelim\n",
    "\n",
    "reg_model.coef_"
   ],
   "id": "4cf962f0c4c28c07",
   "outputs": [
    {
     "data": {
      "text/plain": "array([[9449.96232146]])"
     },
     "execution_count": 16,
     "metadata": {},
     "output_type": "execute_result"
    }
   ],
   "execution_count": 16
  },
  {
   "metadata": {
    "ExecuteTime": {
     "end_time": "2025-02-18T13:06:38.804020Z",
     "start_time": "2025-02-18T13:06:38.796487Z"
    }
   },
   "cell_type": "code",
   "source": [
    "reg_model.intercept_"
   ],
   "id": "828e8d04c9500817",
   "outputs": [
    {
     "data": {
      "text/plain": "array([25792.20019867])"
     },
     "execution_count": 17,
     "metadata": {},
     "output_type": "execute_result"
    }
   ],
   "execution_count": 17
  },
  {
   "metadata": {
    "ExecuteTime": {
     "end_time": "2025-02-18T13:08:15.468105Z",
     "start_time": "2025-02-18T13:08:15.460940Z"
    }
   },
   "cell_type": "code",
   "source": [
    "# Bir öngörü Yapalım \n",
    "\n",
    "reg_model.predict([[7]])"
   ],
   "id": "ce8f8b15318a63df",
   "outputs": [
    {
     "name": "stderr",
     "output_type": "stream",
     "text": [
      "C:\\Users\\pc\\PycharmProjects\\KKapsul\\.venv\\Lib\\site-packages\\sklearn\\utils\\validation.py:2739: UserWarning: X does not have valid feature names, but LinearRegression was fitted with feature names\n",
      "  warnings.warn(\n"
     ]
    },
    {
     "data": {
      "text/plain": "array([[91941.93644885]])"
     },
     "execution_count": 18,
     "metadata": {},
     "output_type": "execute_result"
    }
   ],
   "execution_count": 18
  },
  {
   "metadata": {},
   "cell_type": "markdown",
   "source": [
    "Hadi Başka Algoritmalar Deneylim\n",
    "\n",
    "* https://scikit-learn.org/"
   ],
   "id": "bee0c2101e6a3800"
  }
 ],
 "metadata": {
  "kernelspec": {
   "display_name": "Python 3",
   "language": "python",
   "name": "python3"
  },
  "language_info": {
   "codemirror_mode": {
    "name": "ipython",
    "version": 2
   },
   "file_extension": ".py",
   "mimetype": "text/x-python",
   "name": "python",
   "nbconvert_exporter": "python",
   "pygments_lexer": "ipython2",
   "version": "2.7.6"
  }
 },
 "nbformat": 4,
 "nbformat_minor": 5
}
